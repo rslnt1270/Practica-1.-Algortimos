{
 "cells": [
  {
   "cell_type": "code",
   "execution_count": 5,
   "id": "0df03eb3-9080-4d12-8ac5-bbdd0caab430",
   "metadata": {},
   "outputs": [
    {
     "name": "stdin",
     "output_type": "stream",
     "text": [
      "Escribe un numero entero -22\n"
     ]
    },
    {
     "name": "stdout",
     "output_type": "stream",
     "text": [
      "-22 es negativo\n"
     ]
    }
   ],
   "source": [
    "x=int(input(\"Escribe un numero entero\"))\n",
    "if x>0: \n",
    "   print(x,\"es positivo\")\n",
    "if x<0:\n",
    "   print(x,\"es negativo\")"
   ]
  },
  {
   "cell_type": "code",
   "execution_count": 8,
   "id": "de94f1d9-2625-4207-bb41-3cab1875ae46",
   "metadata": {},
   "outputs": [
    {
     "name": "stdin",
     "output_type": "stream",
     "text": [
      "Escribe un numero entero 7\n"
     ]
    },
    {
     "name": "stdout",
     "output_type": "stream",
     "text": [
      "7 es impar\n"
     ]
    }
   ],
   "source": [
    "x= int(input(\"Escribe un numero entero\"))\n",
    "if x % 2==0:\n",
    "    print(x, \"es par\")\n",
    "else: \n",
    "    print(x, \"es impar\")\n"
   ]
  },
  {
   "cell_type": "code",
   "execution_count": 14,
   "id": "ecfab632-2c30-4d24-965b-e01b6bc39b66",
   "metadata": {},
   "outputs": [
    {
     "name": "stdin",
     "output_type": "stream",
     "text": [
      "Escribe un numero entero 19\n"
     ]
    },
    {
     "name": "stdout",
     "output_type": "stream",
     "text": [
      "19 es impar\n"
     ]
    }
   ],
   "source": [
    "def esPar(x):\n",
    "    if x%2==0:\n",
    "        return True\n",
    "    else:\n",
    "        return False\n",
    "\n",
    "x= int(input(\"Escribe un numero entero\"))\n",
    "if x % 2==0:\n",
    "    print(x, \"es par\")\n",
    "else: \n",
    "    print(x, \"es impar\")"
   ]
  },
  {
   "cell_type": "code",
   "execution_count": 27,
   "id": "b3e9a424-bcec-4d93-b7b8-8fd5a5c9893e",
   "metadata": {},
   "outputs": [
    {
     "name": "stdin",
     "output_type": "stream",
     "text": [
      " 17\n"
     ]
    },
    {
     "name": "stdout",
     "output_type": "stream",
     "text": [
      "17 Puedes votar\n"
     ]
    }
   ],
   "source": [
    "edad= int(input())\n",
    "if x > 18: \n",
    "    print(edad, \"Puedes votar\")\n",
    "else: \n",
    "    print(edad, \"No puedes votar\")\n"
   ]
  },
  {
   "cell_type": "code",
   "execution_count": 30,
   "id": "6b0e8023-b40f-4f57-950d-4e4c78f6853c",
   "metadata": {},
   "outputs": [
    {
     "name": "stdout",
     "output_type": "stream",
     "text": [
      "5 es menor o igual que 10\n"
     ]
    }
   ],
   "source": [
    "x= 5\n",
    "y= 10\n",
    "if x <= y:\n",
    "    print(x, \"es menor o igual que\", y)\n",
    "elif x< y: \n",
    "    print(x,\"es menor que\", y)\n",
    "else:\n",
    "    print(x, \"es mayor que\", y)\n",
    "    "
   ]
  },
  {
   "cell_type": "code",
   "execution_count": 32,
   "id": "05ba20b6-3496-4e54-923a-332a0466b4f4",
   "metadata": {},
   "outputs": [
    {
     "name": "stdout",
     "output_type": "stream",
     "text": [
      "5 es menor que 10\n"
     ]
    }
   ],
   "source": [
    "x=5\n",
    "y=10\n",
    "if x ==y:\n",
    "    print(x, \"y\", y, \"son iguales\")\n",
    "else: \n",
    "   if x <y:\n",
    "       print(x,\"es menor que\", y)\n",
    "   else:\n",
    "       print (x, \"es mayor que\", y)"
   ]
  },
  {
   "cell_type": "code",
   "execution_count": 40,
   "id": "6aceb899-c68c-4603-beb7-98904936ec03",
   "metadata": {},
   "outputs": [
    {
     "name": "stdin",
     "output_type": "stream",
     "text": [
      "Escribe tu promedio actual 7\n",
      "Escribe tu semestre actual 8\n"
     ]
    },
    {
     "name": "stdout",
     "output_type": "stream",
     "text": [
      "Sin acceso a beca\n"
     ]
    }
   ],
   "source": [
    "promedio= float (input(\"Escribe tu promedio actual\"))\n",
    "semestre= int (input(\"Escribe tu semestre actual\"))\n",
    "\n",
    "if semestre>=3 and promedio>=8.5:\n",
    "   print(\"Beca PAPIME\")\n",
    "    \n",
    "if semestre>=6 and promedio>=8.0:\n",
    "   print(\"Beca PAPIIT\")\n",
    "\n",
    "if semestre>=6 and promedio>=8.5:\n",
    "   print(\"Beca de Intercambio\")\n",
    "\n",
    "else:\n",
    "   print(\"Sin acceso a beca\")\n"
   ]
  },
  {
   "cell_type": "code",
   "execution_count": null,
   "id": "88ba2f4d-fb96-44cc-9fc3-75fb3ad049c6",
   "metadata": {},
   "outputs": [],
   "source": [
    "print (\"1.Suma (a+b), 2.Resta (a-b), 3.Multiplicacion (a*b), 4.Division (a/b), 5.Residuo de una division (a mood b)"
   ]
  }
 ],
 "metadata": {
  "kernelspec": {
   "display_name": "Python 3 (ipykernel)",
   "language": "python",
   "name": "python3"
  },
  "language_info": {
   "codemirror_mode": {
    "name": "ipython",
    "version": 3
   },
   "file_extension": ".py",
   "mimetype": "text/x-python",
   "name": "python",
   "nbconvert_exporter": "python",
   "pygments_lexer": "ipython3",
   "version": "3.11.4"
  }
 },
 "nbformat": 4,
 "nbformat_minor": 5
}
