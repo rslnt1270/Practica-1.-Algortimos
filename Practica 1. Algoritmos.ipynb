{
 "cells": [
  {
   "cell_type": "code",
   "execution_count": 6,
   "id": "a1afa938-03cc-43c9-95a5-2a1c2202924f",
   "metadata": {},
   "outputs": [
    {
     "name": "stdout",
     "output_type": "stream",
     "text": [
      "Cual es tu nombre?:  Yair\n"
     ]
    },
    {
     "name": "stdout",
     "output_type": "stream",
     "text": [
      "Hola, bienvenido a TICS Yair\n"
     ]
    }
   ],
   "source": [
    "nombre= (input(\"Cual es tu nombre?: \"))\n",
    "print (\"Hola, bienvenido a TICS\",nombre) "
   ]
  },
  {
   "cell_type": "code",
   "execution_count": 9,
   "id": "09234b1b-5319-4739-bc7c-5cbf2c6e4891",
   "metadata": {},
   "outputs": [
    {
     "name": "stdout",
     "output_type": "stream",
     "text": [
      "Cual es el ancho de tu habitacion?:  20\n",
      "Indica cuanto mide de largo:  5\n"
     ]
    },
    {
     "name": "stdout",
     "output_type": "stream",
     "text": [
      "El area de tu habitacion es: 100.0\n"
     ]
    }
   ],
   "source": [
    "ancho= float (input(\"Cual es el ancho de tu habitacion?: \"))\n",
    "largo= float (input(\"Indica cuanto mide de largo: \"))\n",
    "area= ancho * largo \n",
    "print(\"El area de tu habitacion es:\",area)\n"
   ]
  },
  {
   "cell_type": "code",
   "execution_count": 14,
   "id": "72228c31-917d-4852-b5cb-190d43d7d66b",
   "metadata": {},
   "outputs": [
    {
     "name": "stdout",
     "output_type": "stream",
     "text": [
      "Cuantos metros mide de ancho tu terreno?:  200\n",
      "Indica cuanto mide de largo:  500\n"
     ]
    },
    {
     "name": "stdout",
     "output_type": "stream",
     "text": [
      "Tu terreno mide: 10.0 hectareas\n"
     ]
    }
   ],
   "source": [
    "ancho= float (input(\"Cuantos metros mide de ancho tu terreno?: \"))\n",
    "largo= float (input(\"Indica cuanto mide de largo: \"))\n",
    "area= ancho * largo/10000 #Dado que 1 hectarea es equivalente a 10000 m2\n",
    "print ((\"Tu terreno mide:\"), area, (\"hectareas\")) #Las (,) comas IMPORTANTES "
   ]
  },
  {
   "cell_type": "code",
   "execution_count": 23,
   "id": "015dce8d-0acd-45c6-8eac-80cb6ba98db1",
   "metadata": {},
   "outputs": [
    {
     "name": "stdout",
     "output_type": "stream",
     "text": [
      "Ingresa el numero de botella de 1 litro:  1\n",
      "Ingresa  el numero de botellas de + de un litro:  1\n"
     ]
    },
    {
     "name": "stdout",
     "output_type": "stream",
     "text": [
      "Su total en efectivo es de: 7.75 pesos\n"
     ]
    }
   ],
   "source": [
    "botella1= int (input(\"Ingresa el numero de botella de 1 litro: \"))*2.50 #valor dado por el problema\n",
    "botella2= int (input(\"Ingresa  el numero de botellas de + de un litro: \"))*5.25 \n",
    "total= float (botella1+botella2)\n",
    "print ((\"Su total en efectivo es de:\"), total,(\"pesos\"))"
   ]
  },
  {
   "cell_type": "code",
   "execution_count": 45,
   "id": "42c8670a-ff05-4389-b1c3-ff90a8ea2465",
   "metadata": {},
   "outputs": [
    {
     "name": "stdout",
     "output_type": "stream",
     "text": [
      "Ingresa el precio de la comida: 200\n"
     ]
    },
    {
     "name": "stdout",
     "output_type": "stream",
     "text": [
      "Costo comida: 200.00\n",
      "Impuestos(IVA): 17.00\n",
      "Total propina: 20.00\n",
      "Costo total: 237.00\n"
     ]
    }
   ],
   "source": [
    "comida= float (input(\"Ingresa el precio de la comida:\"))\n",
    "impuestos= float (comida*8.5/100)\n",
    "propina= float (comida*10/100)\n",
    "total= (comida+impuestos+propina)\n",
    "print ((\"Costo comida:\"),(format(comida,\".2f\"))) \n",
    "print ((\"Impuestos(IVA):\"),(format(impuestos,\".2f\")))\n",
    "print ((\"Total propina:\"), (format(propina,\".2f\")))  \n",
    "print ((\"Costo total:\"), (format(total,\".2f\")))    "
   ]
  },
  {
   "cell_type": "code",
   "execution_count": 2,
   "id": "36dac752-6bbb-4117-ae9e-596a9a2ea5bd",
   "metadata": {},
   "outputs": [
    {
     "ename": "ValueError",
     "evalue": "invalid literal for int() with base 10: ''",
     "output_type": "error",
     "traceback": [
      "\u001b[1;31m---------------------------------------------------------------------------\u001b[0m",
      "\u001b[1;31mValueError\u001b[0m                                Traceback (most recent call last)",
      "Cell \u001b[1;32mIn[2], line 2\u001b[0m\n\u001b[0;32m      1\u001b[0m \u001b[39mimport\u001b[39;00m \u001b[39mmath\u001b[39;00m \u001b[39mas\u001b[39;00m \u001b[39mm\u001b[39;00m \n\u001b[1;32m----> 2\u001b[0m t1\u001b[39m=\u001b[39m m\u001b[39m.\u001b[39mradians (\u001b[39mint\u001b[39m(\u001b[39minput\u001b[39m(\u001b[39m\"\u001b[39m\u001b[39mIngrese la latitud del pimer punto:\u001b[39m\u001b[39m\"\u001b[39m)))\n\u001b[0;32m      3\u001b[0m g1\u001b[39m=\u001b[39m m\u001b[39m.\u001b[39mradians (\u001b[39mint\u001b[39m(\u001b[39minput\u001b[39m(\u001b[39m\"\u001b[39m\u001b[39mIngrese la longitud del primer punto:\u001b[39m\u001b[39m\"\u001b[39m))) \n\u001b[0;32m      4\u001b[0m t2\u001b[39m=\u001b[39m m\u001b[39m.\u001b[39mradians (\u001b[39mint\u001b[39m(\u001b[39minput\u001b[39m(\u001b[39m\"\u001b[39m\u001b[39mIngrese la latitud del segundo punto:\u001b[39m\u001b[39m\"\u001b[39m)))\n",
      "\u001b[1;31mValueError\u001b[0m: invalid literal for int() with base 10: ''"
     ]
    }
   ],
   "source": [
    "import math as m \n",
    "t1= m.radians (int(input(\"Ingrese la latitud del pimer punto:\")))\n",
    "g1= m.radians (int(input(\"Ingrese la longitud del primer punto:\"))) \n",
    "t2= m.radians (int(input(\"Ingrese la latitud del segundo punto:\")))\n",
    "g2= m.radians (int(input(\"Ingrese la longitud del segundo punto:\"))) \n",
    "#Formula para calcular la distancia: d= 6371.01arcoCos(sin(t2)+cos(t1)cos(t2)cos(g1-g2)\n",
    "distancia= 6371.01*m.acos(((m.sin(t1))*(m.sin(t2))+(m.cos(t1))*(m.cos(t2))*(m.cos(g1-g2)))) \n",
    "print (distancia, (\"km\"))"
   ]
  },
  {
   "cell_type": "code",
   "execution_count": 1,
   "id": "3990adc1-ca43-402c-b7fa-b7ac815a7842",
   "metadata": {},
   "outputs": [
    {
     "ename": "ValueError",
     "evalue": "could not convert string to float: ''",
     "output_type": "error",
     "traceback": [
      "\u001b[1;31m---------------------------------------------------------------------------\u001b[0m",
      "\u001b[1;31mValueError\u001b[0m                                Traceback (most recent call last)",
      "Cell \u001b[1;32mIn[1], line 1\u001b[0m\n\u001b[1;32m----> 1\u001b[0m mpg\u001b[39m=\u001b[39m \u001b[39mfloat\u001b[39m(\u001b[39minput\u001b[39m(\u001b[39m\"\u001b[39m\u001b[39mIngrese la eficiencia del combustible en MPG\u001b[39m\u001b[39m\"\u001b[39m))\n\u001b[0;32m      2\u001b[0m lkm\u001b[39m=\u001b[39m\u001b[39m1\u001b[39m\u001b[39m/\u001b[39m(mpg\u001b[39m*\u001b[39m\u001b[39m1.60934\u001b[39m\u001b[39m/\u001b[39m\u001b[39m3.78541\u001b[39m\u001b[39m/\u001b[39m\u001b[39m100\u001b[39m) \u001b[39m# millas a kilometros=1.60934. #1 galon a litros=3.78541\u001b[39;00m\n\u001b[0;32m      3\u001b[0m \u001b[39mprint\u001b[39m (lkm),(\u001b[39m\"\u001b[39m\u001b[39mL/100KM\u001b[39m\u001b[39m\"\u001b[39m)\n",
      "\u001b[1;31mValueError\u001b[0m: could not convert string to float: ''"
     ]
    }
   ],
   "source": [
    "mpg= float(input(\"Ingrese la eficiencia del combustible en MPG\"))\n",
    "lkm=1/(mpg*1.60934/3.78541/100) # millas a kilometros=1.60934. #1 galon a litros=3.78541\n",
    "print (lkm),(\"L/100KM\")\n"
   ]
  },
  {
   "cell_type": "code",
   "execution_count": 2,
   "id": "79c7dd7a",
   "metadata": {},
   "outputs": [
    {
     "name": "stdout",
     "output_type": "stream",
     "text": [
      "* * * * \n",
      "*     * \n",
      "*     * \n",
      "* * * * \n"
     ]
    }
   ],
   "source": [
    "n = int(input(\"Introduzca un número entero positivo: \"))\n",
    "for i in range(n):\n",
    "    for j in range(n):\n",
    "        if i == 0 or i == n-1 or j == 0 or j == n-1:\n",
    "            print(\"*\", end=\" \")\n",
    "        else:\n",
    "            print(\" \", end=\" \")\n",
    "    print()"
   ]
  },
  {
   "cell_type": "code",
   "execution_count": 2,
   "id": "f59ce541",
   "metadata": {},
   "outputs": [],
   "source": [
    "import turtle\n",
    "t= turtle .Pen()\n",
    "def estrella4(tam):\n",
    "     for i in range(9):\n",
    "             t.forward(tam)\n",
    "             t.left(175)\n",
    "             t.forward(tam)\n",
    "             t.right(135)\n",
    " \n",
    "estrella4(100)\n",
    "t.color(0,0,1)\n",
    "t.begin_fill()\n",
    "estrella4(100)\n",
    "t.end_fill()\n",
    "\n"
   ]
  }
 ],
 "metadata": {
  "kernelspec": {
   "display_name": "Python 3 (ipykernel)",
   "language": "python",
   "name": "python3"
  },
  "language_info": {
   "codemirror_mode": {
    "name": "ipython",
    "version": 3
   },
   "file_extension": ".py",
   "mimetype": "text/x-python",
   "name": "python",
   "nbconvert_exporter": "python",
   "pygments_lexer": "ipython3",
   "version": "3.11.4"
  }
 },
 "nbformat": 4,
 "nbformat_minor": 5
}
